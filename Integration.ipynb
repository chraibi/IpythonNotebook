{
 "metadata": {
  "name": "Integration"
 },
 "nbformat": 3,
 "nbformat_minor": 0,
 "worksheets": [
  {
   "cells": [
    {
     "cell_type": "heading",
     "level": 1,
     "metadata": {},
     "source": "Integration"
    },
    {
     "cell_type": "markdown",
     "metadata": {},
     "source": "$\\displaystyle\\int^b_a f(x) dx$\n\n"
    },
    {
     "cell_type": "markdown",
     "metadata": {},
     "source": "\n"
    },
    {
     "cell_type": "code",
     "collapsed": false,
     "input": "from scipy.integrate import quad",
     "language": "python",
     "metadata": {},
     "outputs": [],
     "prompt_number": 1
    },
    {
     "cell_type": "markdown",
     "metadata": {},
     "source": "The `quad` function takes a large number of optional arguments, which can be used to fine-tune the behaviour of the function (try `help(quad)` for details).\n\nThe basic usage is as follows:\n"
    },
    {
     "cell_type": "code",
     "collapsed": false,
     "input": "# define a simple function for the integrand\ndef f(x):\n    return x",
     "language": "python",
     "metadata": {},
     "outputs": [],
     "prompt_number": 2
    },
    {
     "cell_type": "code",
     "collapsed": false,
     "input": "x_lower = 0 # the lower limit of x\nx_upper = 1 # the upper limit of x\n\nval, abserr = quad(f, x_lower, x_upper)\n\nprint \"integral value =\", val, \", absolute error =\", abserr ",
     "language": "python",
     "metadata": {},
     "outputs": [
      {
       "output_type": "stream",
       "stream": "stdout",
       "text": "integral value = 0.5 , absolute error = 5.55111512313e-15\n"
      }
     ],
     "prompt_number": 3
    },
    {
     "cell_type": "markdown",
     "metadata": {},
     "source": "$+\\infty$ $-\\infty$"
    },
    {
     "cell_type": "code",
     "collapsed": false,
     "input": "def f(x):\n    return exp(-x**2)\n\nval, abserr = quad(f, -Inf, Inf)",
     "language": "python",
     "metadata": {},
     "outputs": [],
     "prompt_number": 5
    },
    {
     "cell_type": "code",
     "collapsed": false,
     "input": "analytical = sqrt(pi)\nprint \"analytical =\", analytical\nprint \"integral value =\", val, \", absolute error =\", abserr ",
     "language": "python",
     "metadata": {},
     "outputs": [
      {
       "output_type": "stream",
       "stream": "stdout",
       "text": "analytical = 1.77245385091\nintegral value = 1.77245385091 , absolute error = 1.42026367809e-08\n"
      }
     ],
     "prompt_number": 7
    },
    {
     "cell_type": "code",
     "collapsed": false,
     "input": "Noch ein Beispiel",
     "language": "python",
     "metadata": {},
     "outputs": []
    },
    {
     "cell_type": "code",
     "collapsed": false,
     "input": "def integrand(x):\n    return x**3\n\nval, abserr  = quad(integrand, 0, 2)\nprint \"integral value =\", val, \", absolute error =\", abserr",
     "language": "python",
     "metadata": {},
     "outputs": [
      {
       "output_type": "stream",
       "stream": "stdout",
       "text": "integral value = 4.0 , absolute error = 4.4408920985e-14\n"
      }
     ],
     "prompt_number": 9
    },
    {
     "cell_type": "markdown",
     "metadata": {},
     "source": "Numerical data integration\n==========================\n if we had numerical data like this, we use `trapz` or `simps` to integrate it "
    },
    {
     "cell_type": "code",
     "collapsed": false,
     "input": "from scipy.integrate import trapz, simps",
     "language": "python",
     "metadata": {},
     "outputs": [],
     "prompt_number": 15
    },
    {
     "cell_type": "code",
     "collapsed": false,
     "input": "x = np.array([0, 0.5, 1, 1.5, 2])\ny = x**3\ntr = trapz(y, x)\n\nerror_tr = (tr - 4)\n\nprint \"Trapez value =\", tr, \"Trapez error =\", error_tr",
     "language": "python",
     "metadata": {},
     "outputs": [
      {
       "output_type": "stream",
       "stream": "stdout",
       "text": "Trapez value = 4.25 Trapez error = 0.25\n"
      }
     ],
     "prompt_number": 17
    },
    {
     "cell_type": "markdown",
     "metadata": {},
     "source": "Note the integral of these vectors is **greater** than 4! You can see why here. \n"
    },
    {
     "cell_type": "code",
     "collapsed": false,
     "input": "import numpy as np\nimport matplotlib.pyplot as plt\nx = np.array([0, 0.5, 1, 1.5, 2])\ny = x**3\n\nx2 = np.linspace(0, 2)\ny2 = x2**3\n\nplt.plot(x, y, lw=2, label='5 points')\nplt.plot(x2, y2, lw=2, label='50 points')\nfill_between(x2, 0, y2, facecolor='green', interpolate=True, alpha=0.2)\nplt.legend(loc=\"best\")\nplt.savefig('trapz.png')",
     "language": "python",
     "metadata": {},
     "outputs": [
      {
       "metadata": {},
       "output_type": "display_data",
       "png": "[encoded data removed]",
       "text": "<matplotlib.figure.Figure at 0x324a050>"
      }
     ],
     "prompt_number": 28
    },
    {
     "cell_type": "markdown",
     "metadata": {},
     "source": "Combining numerical data with quad\n==================================\nYou might want to combine numerical data with the quad function if you want to perform integrals easily. Let us say you are given this data:\n\n`x = [0 0.5 1 1.5 2]; y = [0 0.1250 1.0000 3.3750 8.0000];`\n\nand you want to integrate this from x = 0.25 to 1.75. We do not have data in those regions, so some interpolation is going to be needed. Here is one approach. "
    },
    {
     "cell_type": "code",
     "collapsed": false,
     "input": "from scipy.interpolate import interp1d\nfrom scipy.integrate import quad, trapz\nimport numpy as np\n\nx = [0, 0.5, 1, 1.5, 2]\ny = [0,    0.1250,    1.0000,    3.3750,    8.0000]\n\nf = interp1d(x, y)\n\n# numerical trapezoid method\nxfine = np.linspace(0.25, 1.75)\nyfine = f(xfine)\nprint \"Trapez value, N=5: \", trapz(y, x)\nprint \"Trapez value, N=50: \", trapz(yfine, xfine)\n# quadrature with interpolation\nvalue, error = quad(f, 0.25, 1.75)\nprint \"Quad value: \",value\n",
     "language": "python",
     "metadata": {},
     "outputs": [
      {
       "output_type": "stream",
       "stream": "stdout",
       "text": "Trapez value N=5:  4.25\nTrapez value N=50:  2.53199187838\nQuad value:  2.53125\n"
      }
     ],
     "prompt_number": 36
    }
   ],
   "metadata": {}
  }
 ]
}