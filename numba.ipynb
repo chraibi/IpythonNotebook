{
 "metadata": {
  "name": ""
 },
 "nbformat": 3,
 "nbformat_minor": 0,
 "worksheets": [
  {
   "cells": [
    {
     "cell_type": "heading",
     "level": 1,
     "metadata": {},
     "source": [
      "Test Numba"
     ]
    },
    {
     "cell_type": "markdown",
     "metadata": {},
     "source": [
      "What is **numba** and how to install it? Check this [link](http://numba.pydata.org/)\n",
      "\n",
      "Here a test code from this [blog](http://jakevdp.github.io/blog/2013/06/15/numba-vs-cython-take-2/)"
     ]
    },
    {
     "cell_type": "code",
     "collapsed": false,
     "input": [
      "import numpy as np\n",
      "from numba.decorators import autojit\n",
      "import time\n",
      "\n",
      "X = np.random.random((1000, 3))\n",
      "\n",
      "def pairwise_python(X):\n",
      "    M = X.shape[0]\n",
      "    N = X.shape[1]\n",
      "    D = np.empty((M, M), dtype=np.float)\n",
      "    for i in range(M):\n",
      "        for j in range(M):\n",
      "            d = 0.0\n",
      "            for k in range(N):\n",
      "                tmp = X[i, k] - X[j, k]\n",
      "                d += tmp * tmp\n",
      "            D[i, j] = np.sqrt(d)\n",
      "    return D"
     ],
     "language": "python",
     "metadata": {},
     "outputs": [],
     "prompt_number": 1
    },
    {
     "cell_type": "heading",
     "level": 3,
     "metadata": {},
     "source": [
      "The numba-version of the above code is"
     ]
    },
    {
     "cell_type": "code",
     "collapsed": false,
     "input": [
      "pairwise_numba = autojit(pairwise_python) # wait, what?"
     ],
     "language": "python",
     "metadata": {},
     "outputs": [],
     "prompt_number": 2
    },
    {
     "cell_type": "heading",
     "level": 3,
     "metadata": {},
     "source": [
      "Let's check the timings..."
     ]
    },
    {
     "cell_type": "code",
     "collapsed": false,
     "input": [
      "start = time.time()\n",
      "pairwise_python(X)\n",
      "t_py = time.time()-start\n",
      "\n",
      "\n",
      "start = time.time()\n",
      "pairwise_numba(X)\n",
      "t_na = time.time()-start\n",
      "\n",
      "print \"time Python: %.3f /s\"%t_py\n",
      "print \"time Numba: %.3f /s\"%t_na\n",
      "print \"Speedup: %.3f\"%(t_py/t_na)"
     ],
     "language": "python",
     "metadata": {},
     "outputs": [
      {
       "output_type": "stream",
       "stream": "stdout",
       "text": [
        "time Python: 6.039 /s\n",
        "time Numba: 0.207 /s\n",
        "Speedup: 29.138\n"
       ]
      }
     ],
     "prompt_number": 3
    },
    {
     "cell_type": "markdown",
     "metadata": {},
     "source": [
      "Not bad as a speedup, right? \n",
      "\n",
      "Still, the speedup reported [hier](http://jakevdp.github.io/blog/2013/06/15/numba-vs-cython-take-2/) is **1400!**"
     ]
    }
   ],
   "metadata": {}
  }
 ]
}