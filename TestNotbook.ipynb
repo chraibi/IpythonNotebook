{
 "metadata": {
  "name": "TestNotebook"
 },
 "nbformat": 3,
 "nbformat_minor": 0,
 "worksheets": [
  {
   "cells": [
    {
     "cell_type": "heading",
     "level": 1,
     "metadata": {},
     "source": "Online Folien zu Python\n"
    },
    {
     "cell_type": "markdown",
     "metadata": {},
     "source": "Das koennte ein Bisschen Arbeit bedeuten, aber ich finde die Idee gut. Man koennte den Studenten Code mit Erklaetrung geben, in einer freundlichen Form."
    },
    {
     "cell_type": "heading",
     "level": 1,
     "metadata": {},
     "source": "Was is Python?"
    },
    {
     "cell_type": "markdown",
     "metadata": {},
     "source": "Eine Schlange, oder?"
    },
    {
     "cell_type": "heading",
     "level": 1,
     "metadata": {},
     "source": "Was kann man mit Python machen?"
    },
    {
     "cell_type": "code",
     "collapsed": false,
     "input": "a = range(10)",
     "language": "python",
     "metadata": {},
     "outputs": [],
     "prompt_number": 7
    },
    {
     "cell_type": "code",
     "collapsed": false,
     "input": "print a",
     "language": "python",
     "metadata": {},
     "outputs": [
      {
       "output_type": "stream",
       "stream": "stdout",
       "text": "[0, 1, 2, 3, 4, 5, 6, 7, 8, 9]\n"
      }
     ],
     "prompt_number": 8
    },
    {
     "cell_type": "heading",
     "level": 1,
     "metadata": {},
     "source": "Kann man damit etwa Abbildungen erstellen?"
    },
    {
     "cell_type": "code",
     "collapsed": false,
     "input": "from numpy import *\nfrom matplotlib.pyplot import *\nx = arange(-10, 10, 0.1)\ny = [ exp(xi)*sin(xi) for xi in x]\nplot(x, y, lw=2)\nxlabel(\"$x$\")\nylabel(\"$\\exp(x)\\sin(x)$\")\ngrid()",
     "language": "python",
     "metadata": {},
     "outputs": [
      {
       "output_type": "display_data",
       "png": "[encoded data removed]"
      }
     ],
     "prompt_number": 13
    },
    {
     "cell_type": "heading",
     "level": 1,
     "metadata": {},
     "source": "Was kann man sonst noch so damit machen?"
    },
    {
     "cell_type": "markdown",
     "metadata": {},
     "source": "Einfach Vorlesung besuchen.."
    }
   ],
   "metadata": {}
  }
 ]
}
