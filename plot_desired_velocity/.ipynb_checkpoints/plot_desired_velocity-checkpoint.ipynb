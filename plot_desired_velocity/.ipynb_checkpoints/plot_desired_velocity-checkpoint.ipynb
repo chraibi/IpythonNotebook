{
 "metadata": {
  "name": ""
 },
 "nbformat": 3,
 "nbformat_minor": 0,
 "worksheets": [
  {
   "cells": [
    {
     "cell_type": "heading",
     "level": 1,
     "metadata": {},
     "source": [
      "Fast plotting of trajectories "
     ]
    },
    {
     "cell_type": "markdown",
     "metadata": {},
     "source": [
      "Given a file with the following data:"
     ]
    },
    {
     "cell_type": "code",
     "collapsed": false,
     "input": [
      "# v0_x   v0_y   pos_x  pos_y   rv0_x   rv0_y   id\n",
      "# 56.00 101.85 52.40 101.85 56.000000 101.850000 1\n",
      "# 56.00 100.74 50.60 100.74 56.000000 100.740000 2\n",
      "# 56.00 100.74 52.10 100.74 56.000000 100.740000 3\n",
      "# 56.00 102.96 52.40 102.96 56.000000 102.960000 4\n",
      "# 56.00 100.74 55.40 100.74 56.000000 100.740000 5\n",
      "# 56.00 103.70 54.80 103.70 56.000000 103.700000 6\n",
      "# 56.00 101.85 53.00 101.85 56.000000 101.850000 7\n",
      "# 56.00 102.22 52.10 102.22 56.000000 102.220000 8\n",
      "# 56.00 101.11 55.40 101.11 56.000000 101.110000 9\n",
      "# 56.00 101.11 54.80 101.11 56.000000 101.110000 10\n",
      "# ...\n"
     ],
     "language": "python",
     "metadata": {},
     "outputs": [],
     "prompt_number": 9
    },
    {
     "cell_type": "markdown",
     "metadata": {},
     "source": [
      "The point  $v^0$=($v^0_x$, $v^0_y$) is the direction of pedestrian $id$.  \n",
      "($rv^0_x$, $rv^0_y$) is the rotation of $v^0$ around \n",
      "the position of the pedestrion  ($pos_x$, $pos_y$) \n",
      "\n",
      "First some imports and check if the program is called with the proper arguments"
     ]
    },
    {
     "cell_type": "code",
     "collapsed": false,
     "input": [
      "from multiprocessing import Pool, current_process\n",
      "import numpy as np\n",
      "import matplotlib.pyplot as plt\n",
      "from sys import argv\n",
      "import pandas as pd\n",
      "import os, time\n",
      "#------------ set input ----------\n",
      "filename = \"log.txt\"\n",
      "nproc = 4\n",
      "    \n",
      "\n"
     ],
     "language": "python",
     "metadata": {},
     "outputs": [],
     "prompt_number": 10
    },
    {
     "cell_type": "markdown",
     "metadata": {},
     "source": [
      "The arguments are: \n",
      "\n",
      "- *filename*: The file containing the data to be ploted\n",
      "\n",
      "- *proc*: The number of processors to use."
     ]
    },
    {
     "cell_type": "markdown",
     "metadata": {},
     "source": [
      "We are going to use multiprocessing, so we better make a function for ploting one frame: "
     ]
    },
    {
     "cell_type": "code",
     "collapsed": false,
     "input": [
      "def plotFrame(args):\n",
      "    data, i = args\n",
      "    fig = plt.figure()\n",
      "    for line in data:\n",
      "        v0x = line[0]\n",
      "        v0y = line[1]\n",
      "        x = line[2]\n",
      "        y = line[3]\n",
      "        Gx= line[4]\n",
      "        Gy= line[5]\n",
      "        plt.plot((x), (y), 'og')\n",
      "        plt.arrow(x, y, v0x-x, v0y-y, head_width=0.1, head_length=0.2, fc='r', ec='r')\n",
      "        plt.arrow(x, y, Gx-x, Gy-y, head_width=0.1, head_length=0.2, fc='b', ec='b')\n",
      "        #geometry                                                                     \n",
      "        plt.plot([65, 62, 62, 60, 60, 56], [104,104,103, 103, 104, 104], 'k', lw=2)\n",
      "        plt.plot([65, 62, 62, 60, 60, 56], [100,100,102, 102, 100, 100], 'k', lw=2)\n",
      "        plt.xlim((48,66))\n",
      "        plt.ylim((99,105))\n",
      "        plt.annotate('%d'%line[6], xy=(x, y), xytext=(x+0.5, y+0.5),\n",
      "                    arrowprops=dict(facecolor='black', shrink=0.05),\n",
      "                    )\n",
      "    fig.savefig(\"figs/%.4d.png\"%i)\n",
      "    plt.clf()\n",
      "    print \"---> figs/%.4d.png\"%i\n"
     ],
     "language": "python",
     "metadata": {},
     "outputs": [],
     "prompt_number": 11
    },
    {
     "cell_type": "markdown",
     "metadata": {},
     "source": [
      "In order to make things run faster (we have no time!), we make a pool of **nproc** processes and map the data **FRAMEWISE** to the plot function "
     ]
    },
    {
     "cell_type": "code",
     "collapsed": false,
     "input": [
      "if __name__ == \"__main__\":\n",
      "    Plot = 1\n",
      "    Movie = 1\n",
      "    \n",
      "    if Plot: \n",
      "        start = time.time()\n",
      "        print \"read_csv file ...\"\n",
      "        data = np.array( pd.read_csv(filename, sep = \" \", header=None)  )\n",
      "        readTime = time.time() - start\n",
      "        m = int( max(data[:,-1]) ) #                                                                             \n",
      "        l = data.shape[0]\n",
      "        pool = Pool(processes = nproc)\n",
      "        nfigs = range(0, l/m, 100)\n",
      "        list_data = [ data[i*m:(i+1)*m, :] for i in nfigs ]\n",
      "        inputData = zip(list_data, range(len(nfigs)))\n",
      "        start = time.time()\n",
      "        pool.map(plotFrame, inputData)\n",
      "        paTime = time.time() - start\n",
      "        pool.close()\n",
      "        pool.join()\n",
      "        print \"Read Data in %.4f /s\"%readTime\n",
      "        print \"Run Time %.4f /s\"%paTime"
     ],
     "language": "python",
     "metadata": {},
     "outputs": [
      {
       "output_type": "stream",
       "stream": "stdout",
       "text": [
        "read_csv file ...\n"
       ]
      },
      {
       "output_type": "stream",
       "stream": "stdout",
       "text": [
        "Read Data in 0.0013 /s\n",
        "Run Time 0.1683 /s\n",
        "---> figs/0000.png\n"
       ]
      }
     ],
     "prompt_number": 12
    },
    {
     "cell_type": "code",
     "collapsed": false,
     "input": [
      "from IPython.display import Image\n",
      "Image(filename='figs/0000.png')"
     ],
     "language": "python",
     "metadata": {},
     "outputs": [
      {
       "ename": "IOError",
       "evalue": "[Errno 2] No such file or directory: u'./figs/0000.jpg'",
       "output_type": "pyerr",
       "traceback": [
        "\u001b[1;31m---------------------------------------------------------------------------\u001b[0m\n\u001b[1;31mIOError\u001b[0m                                   Traceback (most recent call last)",
        "\u001b[1;32m<ipython-input-13-d66d9c50f00f>\u001b[0m in \u001b[0;36m<module>\u001b[1;34m()\u001b[0m\n\u001b[0;32m      1\u001b[0m \u001b[1;32mfrom\u001b[0m \u001b[0mIPython\u001b[0m\u001b[1;33m.\u001b[0m\u001b[0mdisplay\u001b[0m \u001b[1;32mimport\u001b[0m \u001b[0mImage\u001b[0m\u001b[1;33m\u001b[0m\u001b[0m\n\u001b[1;32m----> 2\u001b[1;33m \u001b[0mImage\u001b[0m\u001b[1;33m(\u001b[0m\u001b[0mfilename\u001b[0m\u001b[1;33m=\u001b[0m\u001b[1;34m'./figs/0000.jpg'\u001b[0m\u001b[1;33m)\u001b[0m\u001b[1;33m\u001b[0m\u001b[0m\n\u001b[0m",
        "\u001b[1;32m/usr/local/lib/python2.7/dist-packages/ipython-1.2.0-py2.7.egg/IPython/core/display.pyc\u001b[0m in \u001b[0;36m__init__\u001b[1;34m(self, data, url, filename, format, embed, width, height, retina)\u001b[0m\n\u001b[0;32m    599\u001b[0m         \u001b[0mself\u001b[0m\u001b[1;33m.\u001b[0m\u001b[0mheight\u001b[0m \u001b[1;33m=\u001b[0m \u001b[0mheight\u001b[0m\u001b[1;33m\u001b[0m\u001b[0m\n\u001b[0;32m    600\u001b[0m         \u001b[0mself\u001b[0m\u001b[1;33m.\u001b[0m\u001b[0mretina\u001b[0m \u001b[1;33m=\u001b[0m \u001b[0mretina\u001b[0m\u001b[1;33m\u001b[0m\u001b[0m\n\u001b[1;32m--> 601\u001b[1;33m         \u001b[0msuper\u001b[0m\u001b[1;33m(\u001b[0m\u001b[0mImage\u001b[0m\u001b[1;33m,\u001b[0m \u001b[0mself\u001b[0m\u001b[1;33m)\u001b[0m\u001b[1;33m.\u001b[0m\u001b[0m__init__\u001b[0m\u001b[1;33m(\u001b[0m\u001b[0mdata\u001b[0m\u001b[1;33m=\u001b[0m\u001b[0mdata\u001b[0m\u001b[1;33m,\u001b[0m \u001b[0murl\u001b[0m\u001b[1;33m=\u001b[0m\u001b[0murl\u001b[0m\u001b[1;33m,\u001b[0m \u001b[0mfilename\u001b[0m\u001b[1;33m=\u001b[0m\u001b[0mfilename\u001b[0m\u001b[1;33m)\u001b[0m\u001b[1;33m\u001b[0m\u001b[0m\n\u001b[0m\u001b[0;32m    602\u001b[0m \u001b[1;33m\u001b[0m\u001b[0m\n\u001b[0;32m    603\u001b[0m         \u001b[1;32mif\u001b[0m \u001b[0mretina\u001b[0m\u001b[1;33m:\u001b[0m\u001b[1;33m\u001b[0m\u001b[0m\n",
        "\u001b[1;32m/usr/local/lib/python2.7/dist-packages/ipython-1.2.0-py2.7.egg/IPython/core/display.pyc\u001b[0m in \u001b[0;36m__init__\u001b[1;34m(self, data, url, filename)\u001b[0m\n\u001b[0;32m    303\u001b[0m         \u001b[0mself\u001b[0m\u001b[1;33m.\u001b[0m\u001b[0mfilename\u001b[0m \u001b[1;33m=\u001b[0m \u001b[0mNone\u001b[0m \u001b[1;32mif\u001b[0m \u001b[0mfilename\u001b[0m \u001b[1;32mis\u001b[0m \u001b[0mNone\u001b[0m \u001b[1;32melse\u001b[0m \u001b[0municode\u001b[0m\u001b[1;33m(\u001b[0m\u001b[0mfilename\u001b[0m\u001b[1;33m)\u001b[0m\u001b[1;33m\u001b[0m\u001b[0m\n\u001b[0;32m    304\u001b[0m \u001b[1;33m\u001b[0m\u001b[0m\n\u001b[1;32m--> 305\u001b[1;33m         \u001b[0mself\u001b[0m\u001b[1;33m.\u001b[0m\u001b[0mreload\u001b[0m\u001b[1;33m(\u001b[0m\u001b[1;33m)\u001b[0m\u001b[1;33m\u001b[0m\u001b[0m\n\u001b[0m\u001b[0;32m    306\u001b[0m \u001b[1;33m\u001b[0m\u001b[0m\n\u001b[0;32m    307\u001b[0m     \u001b[1;32mdef\u001b[0m \u001b[0mreload\u001b[0m\u001b[1;33m(\u001b[0m\u001b[0mself\u001b[0m\u001b[1;33m)\u001b[0m\u001b[1;33m:\u001b[0m\u001b[1;33m\u001b[0m\u001b[0m\n",
        "\u001b[1;32m/usr/local/lib/python2.7/dist-packages/ipython-1.2.0-py2.7.egg/IPython/core/display.pyc\u001b[0m in \u001b[0;36mreload\u001b[1;34m(self)\u001b[0m\n\u001b[0;32m    621\u001b[0m         \u001b[1;34m\"\"\"Reload the raw data from file or URL.\"\"\"\u001b[0m\u001b[1;33m\u001b[0m\u001b[0m\n\u001b[0;32m    622\u001b[0m         \u001b[1;32mif\u001b[0m \u001b[0mself\u001b[0m\u001b[1;33m.\u001b[0m\u001b[0membed\u001b[0m\u001b[1;33m:\u001b[0m\u001b[1;33m\u001b[0m\u001b[0m\n\u001b[1;32m--> 623\u001b[1;33m             \u001b[0msuper\u001b[0m\u001b[1;33m(\u001b[0m\u001b[0mImage\u001b[0m\u001b[1;33m,\u001b[0m\u001b[0mself\u001b[0m\u001b[1;33m)\u001b[0m\u001b[1;33m.\u001b[0m\u001b[0mreload\u001b[0m\u001b[1;33m(\u001b[0m\u001b[1;33m)\u001b[0m\u001b[1;33m\u001b[0m\u001b[0m\n\u001b[0m\u001b[0;32m    624\u001b[0m             \u001b[1;32mif\u001b[0m \u001b[0mself\u001b[0m\u001b[1;33m.\u001b[0m\u001b[0mretina\u001b[0m\u001b[1;33m:\u001b[0m\u001b[1;33m\u001b[0m\u001b[0m\n\u001b[0;32m    625\u001b[0m                 \u001b[0mself\u001b[0m\u001b[1;33m.\u001b[0m\u001b[0m_retina_shape\u001b[0m\u001b[1;33m(\u001b[0m\u001b[1;33m)\u001b[0m\u001b[1;33m\u001b[0m\u001b[0m\n",
        "\u001b[1;32m/usr/local/lib/python2.7/dist-packages/ipython-1.2.0-py2.7.egg/IPython/core/display.pyc\u001b[0m in \u001b[0;36mreload\u001b[1;34m(self)\u001b[0m\n\u001b[0;32m    308\u001b[0m         \u001b[1;34m\"\"\"Reload the raw data from file or URL.\"\"\"\u001b[0m\u001b[1;33m\u001b[0m\u001b[0m\n\u001b[0;32m    309\u001b[0m         \u001b[1;32mif\u001b[0m \u001b[0mself\u001b[0m\u001b[1;33m.\u001b[0m\u001b[0mfilename\u001b[0m \u001b[1;32mis\u001b[0m \u001b[1;32mnot\u001b[0m \u001b[0mNone\u001b[0m\u001b[1;33m:\u001b[0m\u001b[1;33m\u001b[0m\u001b[0m\n\u001b[1;32m--> 310\u001b[1;33m             \u001b[1;32mwith\u001b[0m \u001b[0mopen\u001b[0m\u001b[1;33m(\u001b[0m\u001b[0mself\u001b[0m\u001b[1;33m.\u001b[0m\u001b[0mfilename\u001b[0m\u001b[1;33m,\u001b[0m \u001b[0mself\u001b[0m\u001b[1;33m.\u001b[0m\u001b[0m_read_flags\u001b[0m\u001b[1;33m)\u001b[0m \u001b[1;32mas\u001b[0m \u001b[0mf\u001b[0m\u001b[1;33m:\u001b[0m\u001b[1;33m\u001b[0m\u001b[0m\n\u001b[0m\u001b[0;32m    311\u001b[0m                 \u001b[0mself\u001b[0m\u001b[1;33m.\u001b[0m\u001b[0mdata\u001b[0m \u001b[1;33m=\u001b[0m \u001b[0mf\u001b[0m\u001b[1;33m.\u001b[0m\u001b[0mread\u001b[0m\u001b[1;33m(\u001b[0m\u001b[1;33m)\u001b[0m\u001b[1;33m\u001b[0m\u001b[0m\n\u001b[0;32m    312\u001b[0m         \u001b[1;32melif\u001b[0m \u001b[0mself\u001b[0m\u001b[1;33m.\u001b[0m\u001b[0murl\u001b[0m \u001b[1;32mis\u001b[0m \u001b[1;32mnot\u001b[0m \u001b[0mNone\u001b[0m\u001b[1;33m:\u001b[0m\u001b[1;33m\u001b[0m\u001b[0m\n",
        "\u001b[1;31mIOError\u001b[0m: [Errno 2] No such file or directory: u'./figs/0000.jpg'"
       ]
      }
     ],
     "prompt_number": 13
    },
    {
     "cell_type": "markdown",
     "metadata": {},
     "source": [
      "\n",
      "Optional: Make a movie using the pngs produced in the directory **figs/**"
     ]
    },
    {
     "cell_type": "code",
     "collapsed": false,
     "input": [
      "if Movie:\n",
      "    cmd = \"\\\"mf://figs/*.png\\\" -mf w=800:h=600:fps=25:type=png -ovc lavc -lavcopts vcodec=mpeg4 -oac copy -o output.avi\"\n",
      "    print \"Run Mencoder ... \"\n",
      "    os.system(\"mencoder %s\" %cmd)"
     ],
     "language": "python",
     "metadata": {},
     "outputs": []
    },
    {
     "cell_type": "heading",
     "level": 4,
     "metadata": {},
     "source": [
      "Todo"
     ]
    },
    {
     "cell_type": "markdown",
     "metadata": {},
     "source": [
      "Use [PyQtGraph](http://www.pyqtgraph.org/) insteed of the *very* slow `matplotlib`"
     ]
    }
   ],
   "metadata": {}
  }
 ]
}